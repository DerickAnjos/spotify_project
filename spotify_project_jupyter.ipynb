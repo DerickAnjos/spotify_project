{
 "cells": [
  {
   "cell_type": "code",
   "execution_count": 1,
   "id": "6dfd01a1",
   "metadata": {},
   "outputs": [
    {
     "name": "stdout",
     "output_type": "stream",
     "text": [
      "Defaulting to user installation because normal site-packages is not writeable\n",
      "Requirement already satisfied: pyspark in c:\\users\\derick\\appdata\\roaming\\python\\python39\\site-packages (3.4.0)\n",
      "Requirement already satisfied: py4j==0.10.9.7 in c:\\users\\derick\\appdata\\roaming\\python\\python39\\site-packages (from pyspark) (0.10.9.7)\n"
     ]
    }
   ],
   "source": [
    "# Installing and importing packages\n",
    "\n",
    "!pip install pyspark\n",
    "import pyspark\n",
    "import pandas as pd\n",
    "import numpy as np\n",
    "\n",
    "#from pyspark import SparkConf, SparkContext\n",
    "from pyspark.sql import SparkSession\n",
    "import pyspark.sql.types as t\n",
    "import pyspark.sql.functions as f"
   ]
  },
  {
   "cell_type": "code",
   "execution_count": null,
   "id": "abde3c77",
   "metadata": {},
   "outputs": [],
   "source": [
    "# Importing dataset (with pandas)\n",
    "#data = pd.read_csv('charts.csv')"
   ]
  },
  {
   "cell_type": "raw",
   "id": "5ee16c42",
   "metadata": {},
   "source": [
    "In this project, we're going to use Spark (large dataset, with more than 28 milions lines) and SQL to explore the dataset.\n",
    "\n",
    "The first step working with Spark, is create a instance of class \"Spark Session\". "
   ]
  },
  {
   "cell_type": "code",
   "execution_count": 2,
   "id": "4ba88960",
   "metadata": {},
   "outputs": [],
   "source": [
    "# Building a Spark session - entry point to underlying Spark funtionality\n",
    "spark = (SparkSession.builder.config(\"spark.driver.memory\",\"4g\").config(\"spark.driver.maxResultSize\", \"4g\").getOrCreate())"
   ]
  },
  {
   "cell_type": "code",
   "execution_count": 3,
   "id": "ea2ea09f",
   "metadata": {},
   "outputs": [],
   "source": [
    "# Importing dataset (with spark)\n",
    "data_spk = spark.read.csv(path = 'charts.csv', inferSchema = True, header = True)"
   ]
  },
  {
   "cell_type": "code",
   "execution_count": 11,
   "id": "7ff8cf6f",
   "metadata": {},
   "outputs": [
    {
     "data": {
      "text/plain": [
       "DataFrame[title: string, rank: int, date: date, artist: string, url: string, region: string, chart: string, trend: string, streams: int]"
      ]
     },
     "execution_count": 11,
     "metadata": {},
     "output_type": "execute_result"
    }
   ],
   "source": [
    "# Looking into the data types, all of then are 'string'. We need to use the correct type to perform our analysis.\n",
    "# This are the data types supported by Spark DataFrames and SQL: https://spark.apache.org/docs/latest/sql-ref-datatypes.html\n",
    "data_spk"
   ]
  },
  {
   "cell_type": "code",
   "execution_count": 10,
   "id": "2f5f4fbd",
   "metadata": {},
   "outputs": [],
   "source": [
    "# Setting the data types\n",
    "data_spk = data_spk.withColumn('rank', f.col('rank').cast(t.IntegerType())).withColumn('date', f.col('date').cast(t.DateType())).withColumn('streams', f.col('streams').cast(t.IntegerType()))"
   ]
  },
  {
   "cell_type": "code",
   "execution_count": 12,
   "id": "881b9e51",
   "metadata": {},
   "outputs": [
    {
     "data": {
      "text/plain": [
       "DataFrame[title: string, rank: int, date: date, artist: string, url: string, region: string, chart: string, trend: string, streams: int]"
      ]
     },
     "execution_count": 12,
     "metadata": {},
     "output_type": "execute_result"
    }
   ],
   "source": [
    "# Verifying the data types of 'rank', 'date' and 'streams'\n",
    "data_spk"
   ]
  },
  {
   "cell_type": "raw",
   "id": "c7096aca",
   "metadata": {},
   "source": [
    "To save our intermediare querys and results, we create a temp table (process data much faster).\n",
    "It's important understand that temporary tables are available just within the current session."
   ]
  },
  {
   "cell_type": "code",
   "execution_count": 14,
   "id": "98dd03d7",
   "metadata": {},
   "outputs": [
    {
     "name": "stderr",
     "output_type": "stream",
     "text": [
      "C:\\Users\\Derick\\AppData\\Roaming\\Python\\Python39\\site-packages\\pyspark\\sql\\dataframe.py:330: FutureWarning: Deprecated in 2.0, use createOrReplaceTempView instead.\n",
      "  warnings.warn(\"Deprecated in 2.0, use createOrReplaceTempView instead.\", FutureWarning)\n"
     ]
    }
   ],
   "source": [
    "# Setting a temp table\n",
    "data_spk.registerTempTable('charts')"
   ]
  },
  {
   "cell_type": "code",
   "execution_count": 19,
   "id": "06350303",
   "metadata": {},
   "outputs": [
    {
     "data": {
      "text/html": [
       "<div>\n",
       "<style scoped>\n",
       "    .dataframe tbody tr th:only-of-type {\n",
       "        vertical-align: middle;\n",
       "    }\n",
       "\n",
       "    .dataframe tbody tr th {\n",
       "        vertical-align: top;\n",
       "    }\n",
       "\n",
       "    .dataframe thead th {\n",
       "        text-align: right;\n",
       "    }\n",
       "</style>\n",
       "<table border=\"1\" class=\"dataframe\">\n",
       "  <thead>\n",
       "    <tr style=\"text-align: right;\">\n",
       "      <th></th>\n",
       "      <th>begin</th>\n",
       "      <th>end</th>\n",
       "    </tr>\n",
       "  </thead>\n",
       "  <tbody>\n",
       "    <tr>\n",
       "      <th>0</th>\n",
       "      <td>2017-01-01</td>\n",
       "      <td>2021-12-31</td>\n",
       "    </tr>\n",
       "  </tbody>\n",
       "</table>\n",
       "</div>"
      ],
      "text/plain": [
       "        begin         end\n",
       "0  2017-01-01  2021-12-31"
      ]
     },
     "execution_count": 19,
     "metadata": {},
     "output_type": "execute_result"
    }
   ],
   "source": [
    "spark.sql('''\n",
    "SELECT MIN(date) begin, MAX(date) end \n",
    "FROM charts \n",
    "WHERE chart = 'top200';\n",
    "''').toPandas()"
   ]
  },
  {
   "cell_type": "code",
   "execution_count": null,
   "id": "6c270ef5",
   "metadata": {},
   "outputs": [],
   "source": [
    "appearances_top200 = data[data['chart'] == 'top200']['title'].value_counts()"
   ]
  },
  {
   "cell_type": "code",
   "execution_count": null,
   "id": "5a88c057",
   "metadata": {
    "scrolled": true
   },
   "outputs": [],
   "source": [
    "appearances_top200.head(10)"
   ]
  },
  {
   "cell_type": "code",
   "execution_count": null,
   "id": "7398286d",
   "metadata": {},
   "outputs": [],
   "source": []
  }
 ],
 "metadata": {
  "kernelspec": {
   "display_name": "Python 3 (ipykernel)",
   "language": "python",
   "name": "python3"
  },
  "language_info": {
   "codemirror_mode": {
    "name": "ipython",
    "version": 3
   },
   "file_extension": ".py",
   "mimetype": "text/x-python",
   "name": "python",
   "nbconvert_exporter": "python",
   "pygments_lexer": "ipython3",
   "version": "3.9.13"
  }
 },
 "nbformat": 4,
 "nbformat_minor": 5
}
